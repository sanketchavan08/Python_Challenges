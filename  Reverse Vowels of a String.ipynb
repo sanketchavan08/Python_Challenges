{
 "cells": [
  {
   "cell_type": "code",
   "execution_count": 19,
   "metadata": {},
   "outputs": [
    {
     "data": {
      "text/plain": [
       "'Senkat'"
      ]
     },
     "execution_count": 19,
     "metadata": {},
     "output_type": "execute_result"
    }
   ],
   "source": [
    "input1 = \"Sanket\"\n",
    "def reverse_vowels(s):\n",
    "    s = list(s)\n",
    "    left = 0\n",
    "    right = len(s)-1\n",
    "    vow = [\"a\", \"e\", \"i\", \"o\", \"u\", \"A\", \"E\", \"I\", \"O\", \"U\"] #adding capital Vowels to make this case sensitive\n",
    "    while left < right:\n",
    "        if s[left] in vow and s[right] in vow:\n",
    "            s[left], s[right] = s[right], s[left]\n",
    "            left, right = left + 1, right - 1\n",
    "            \n",
    "        elif s[left] in vow and s[right] not in vow:\n",
    "            right = right-1\n",
    "            \n",
    "        elif s[left] not in vow and s[right] in vow: \n",
    "            left = left +1\n",
    "            \n",
    "        elif s[left] not in vow and s[right] not in vow:\n",
    "            left, right = left + 1, right - 1\n",
    "        \n",
    "    return \"\".join(s)   \n",
    "           \n",
    "reverse_vowels(input1)    \n"
   ]
  },
  {
   "cell_type": "code",
   "execution_count": null,
   "metadata": {},
   "outputs": [],
   "source": []
  },
  {
   "cell_type": "code",
   "execution_count": null,
   "metadata": {},
   "outputs": [],
   "source": []
  },
  {
   "cell_type": "code",
   "execution_count": null,
   "metadata": {},
   "outputs": [],
   "source": []
  },
  {
   "cell_type": "code",
   "execution_count": null,
   "metadata": {},
   "outputs": [],
   "source": [
    " "
   ]
  },
  {
   "cell_type": "code",
   "execution_count": null,
   "metadata": {},
   "outputs": [],
   "source": []
  },
  {
   "cell_type": "code",
   "execution_count": null,
   "metadata": {},
   "outputs": [],
   "source": []
  },
  {
   "cell_type": "code",
   "execution_count": null,
   "metadata": {},
   "outputs": [],
   "source": []
  }
 ],
 "metadata": {
  "kernelspec": {
   "display_name": "Python 3",
   "language": "python",
   "name": "python3"
  },
  "language_info": {
   "codemirror_mode": {
    "name": "ipython",
    "version": 3
   },
   "file_extension": ".py",
   "mimetype": "text/x-python",
   "name": "python",
   "nbconvert_exporter": "python",
   "pygments_lexer": "ipython3",
   "version": "3.6.7"
  }
 },
 "nbformat": 4,
 "nbformat_minor": 2
}
